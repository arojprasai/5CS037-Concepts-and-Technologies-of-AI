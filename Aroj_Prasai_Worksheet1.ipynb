{
  "nbformat": 4,
  "nbformat_minor": 0,
  "metadata": {
    "colab": {
      "provenance": []
    },
    "kernelspec": {
      "name": "python3",
      "display_name": "Python 3"
    },
    "language_info": {
      "name": "python"
    }
  },
  "cells": [
    {
      "cell_type": "markdown",
      "source": [
        "4 TO - DO - Task\n",
        "Please complete all the problem listed below.\n",
        "4.1 Warming Up Exercise: Basic Vector and Matrix Operation with Numpy.\n",
        "Problem - 1: Array Creation:\n",
        "Complete the following Tasks:\n",
        "1. Initialize an empty array with size 2X2.\n",
        "2. Initialize an all one array with size 4X2.\n",
        "3. Return a new array of given shape and type, filled with fill value.{Hint: np.full}\n",
        "4. Return a new array of zeros with same shape and type as a given array.{Hint: np.zeros like}\n",
        "5. Return a new array of ones with same shape and type as a given array.{Hint: np.ones like}\n",
        "6. For an existing list new_list = [1,2,3,4] convert to an numpy array.{Hint: np.array()}"
      ],
      "metadata": {
        "id": "4Ha1lrXC8iv3"
      }
    },
    {
      "cell_type": "code",
      "source": [
        "#TASK1\n",
        "import numpy as np\n",
        "e_array=np.empty((2,2))\n",
        "print(\"Empty array with size 2x2\\n\",e_array)"
      ],
      "metadata": {
        "colab": {
          "base_uri": "https://localhost:8080/"
        },
        "id": "VU5-0FNl8kgX",
        "outputId": "e160ce56-bceb-4ae5-fc8b-f0eeb07cda54"
      },
      "execution_count": 8,
      "outputs": [
        {
          "output_type": "stream",
          "name": "stdout",
          "text": [
            "Empty array with size 2x2\n",
            " [[4.71010555e-310 0.00000000e+000]\n",
            " [6.61959372e-310 6.61959372e-310]]\n"
          ]
        }
      ]
    },
    {
      "cell_type": "code",
      "source": [
        "#TASK2\n",
        "import numpy as np\n",
        "o_array=np.ones((4,2))\n",
        "print(\"All one array with 4x2\\n\",o_array)"
      ],
      "metadata": {
        "colab": {
          "base_uri": "https://localhost:8080/"
        },
        "id": "gPtwnUwL9BTj",
        "outputId": "c18983bc-8990-4050-81fb-1d20ece489ed"
      },
      "execution_count": 9,
      "outputs": [
        {
          "output_type": "stream",
          "name": "stdout",
          "text": [
            "All one array with 4x2\n",
            " [[1. 1.]\n",
            " [1. 1.]\n",
            " [1. 1.]\n",
            " [1. 1.]]\n"
          ]
        }
      ]
    },
    {
      "cell_type": "code",
      "source": [
        "#TASK3\n",
        "import numpy as np\n",
        "f_array=np.full((3,3),fill_value=7)\n",
        "print(\"New array filled with 7\\n\",f_array)"
      ],
      "metadata": {
        "colab": {
          "base_uri": "https://localhost:8080/"
        },
        "id": "F-VjWNr49Srj",
        "outputId": "27b64644-3c90-4288-8526-a40d930f551c"
      },
      "execution_count": 7,
      "outputs": [
        {
          "output_type": "stream",
          "name": "stdout",
          "text": [
            "New array filled with 7\n",
            " [[7 7 7]\n",
            " [7 7 7]\n",
            " [7 7 7]]\n"
          ]
        }
      ]
    },
    {
      "cell_type": "code",
      "source": [
        "#TASK4\n",
        "z_array=np.zeros_like(f_array)\n",
        "print(\"New array pf zeros with same shape and type as reference array\\n\",z_array)"
      ],
      "metadata": {
        "colab": {
          "base_uri": "https://localhost:8080/"
        },
        "id": "zgGMiNfh-jO4",
        "outputId": "4056ed8e-9bdc-4e95-d8c7-2a7a6371d58a"
      },
      "execution_count": 10,
      "outputs": [
        {
          "output_type": "stream",
          "name": "stdout",
          "text": [
            "New array pf zeros with same shape and type as reference array\n",
            " [[0 0 0]\n",
            " [0 0 0]\n",
            " [0 0 0]]\n"
          ]
        }
      ]
    },
    {
      "cell_type": "code",
      "source": [
        "#Task5\n",
        "o_array=np.ones_like(f_array)\n",
        "print(\"New array of ones with same shape and type as reference array\\n\",o_array)"
      ],
      "metadata": {
        "colab": {
          "base_uri": "https://localhost:8080/"
        },
        "id": "ksjLb72d_DfO",
        "outputId": "56ae6bf1-9486-4531-cff2-796ababea0e6"
      },
      "execution_count": 11,
      "outputs": [
        {
          "output_type": "stream",
          "name": "stdout",
          "text": [
            "New array of ones with same shape and type as reference array\n",
            " [[1 1 1]\n",
            " [1 1 1]\n",
            " [1 1 1]]\n"
          ]
        }
      ]
    },
    {
      "cell_type": "code",
      "source": [
        "#TASK6\n",
        "n_list=[1,2,3,4]\n",
        "converted_array=np.array(n_list)\n",
        "print(\"Numpy array converted to list\\n\",converted_array)"
      ],
      "metadata": {
        "colab": {
          "base_uri": "https://localhost:8080/"
        },
        "id": "TuV9u8V7_aMm",
        "outputId": "8c2c2213-a8fe-4732-be46-19a556f6b1da"
      },
      "execution_count": 13,
      "outputs": [
        {
          "output_type": "stream",
          "name": "stdout",
          "text": [
            "Numpy array converted to list\n",
            " [1 2 3 4]\n"
          ]
        }
      ]
    },
    {
      "cell_type": "markdown",
      "source": [
        "4.1.1 Problem - 2: Array Manipulation: Numerical Ranges and Array indexing:\n",
        "Complete the following tasks:\n",
        "1. Create an array with values ranging from 10 to 49. {Hint:np.arrange()}.\n",
        "2. Create a 3X3 matrix with values ranging from 0 to 8.\n",
        "{Hint:look for np.reshape()}\n",
        "3. Create a 3X3 identity matrix.{Hint:np.eye()}\n",
        "4. Create a random array of size 30 and find the mean of the array.\n",
        "{Hint:check for np.random.random() and array.mean() function}\n",
        "5. Create a 10X10 array with random values and find the minimum and maximum values.\n",
        "6. Create a zero array of size 10 and replace 5th element with 1.\n",
        "7. Reverse an array arr = [1,2,0,0,4,0].\n",
        "8. Create a 2d array with 1 on border and 0 inside.\n",
        "9. Create a 8X8 matrix and fill it with a checkerboard pattern."
      ],
      "metadata": {
        "id": "GknSJujMANWH"
      }
    },
    {
      "cell_type": "code",
      "source": [
        "#TASK1\n",
        "import numpy as np\n",
        "a1 = np.arange(10,50)\n",
        "print(a1)"
      ],
      "metadata": {
        "colab": {
          "base_uri": "https://localhost:8080/"
        },
        "id": "dnUtnHptAOcn",
        "outputId": "e992cee6-5ec6-4887-daa2-46224c195d82"
      },
      "execution_count": 25,
      "outputs": [
        {
          "output_type": "stream",
          "name": "stdout",
          "text": [
            "[10 11 12 13 14 15 16 17 18 19 20 21 22 23 24 25 26 27 28 29 30 31 32 33\n",
            " 34 35 36 37 38 39 40 41 42 43 44 45 46 47 48 49]\n"
          ]
        }
      ]
    },
    {
      "cell_type": "code",
      "source": [
        "#TASK2\n",
        "a2=np.arange(9).reshape(3,3)\n",
        "print(a2)"
      ],
      "metadata": {
        "colab": {
          "base_uri": "https://localhost:8080/"
        },
        "id": "5A94g6pFAsuM",
        "outputId": "725d0954-7a5f-4367-e43b-76732b62e51f"
      },
      "execution_count": 27,
      "outputs": [
        {
          "output_type": "stream",
          "name": "stdout",
          "text": [
            "[[0 1 2]\n",
            " [3 4 5]\n",
            " [6 7 8]]\n"
          ]
        }
      ]
    },
    {
      "cell_type": "code",
      "source": [
        "#TASK3\n",
        "a3= np.eye(3)\n",
        "print(a3)"
      ],
      "metadata": {
        "colab": {
          "base_uri": "https://localhost:8080/"
        },
        "id": "tN32FNH0AyzT",
        "outputId": "f33e06df-ce6d-4f91-aa68-16e96ea6d460"
      },
      "execution_count": 28,
      "outputs": [
        {
          "output_type": "stream",
          "name": "stdout",
          "text": [
            "[[1. 0. 0.]\n",
            " [0. 1. 0.]\n",
            " [0. 0. 1.]]\n"
          ]
        }
      ]
    },
    {
      "cell_type": "code",
      "source": [
        "a4=np.random.random(30)\n",
        "print(a4.mean())"
      ],
      "metadata": {
        "colab": {
          "base_uri": "https://localhost:8080/"
        },
        "id": "0sImbs7wCNJd",
        "outputId": "0907f2c4-b1da-411b-bcd0-4e46d30b8d2b"
      },
      "execution_count": 29,
      "outputs": [
        {
          "output_type": "stream",
          "name": "stdout",
          "text": [
            "0.49591311088451884\n"
          ]
        }
      ]
    },
    {
      "cell_type": "code",
      "source": [
        "a5= np.random.random((10,10))\n",
        "print(\"Minimum value\",a5.min())\n",
        "print(\"Maximum value\",a5.max())\n",
        "\n"
      ],
      "metadata": {
        "colab": {
          "base_uri": "https://localhost:8080/"
        },
        "id": "oFKT1VeJCZXV",
        "outputId": "84468391-10ea-4a7d-82d0-86766d89fa6f"
      },
      "execution_count": 32,
      "outputs": [
        {
          "output_type": "stream",
          "name": "stdout",
          "text": [
            "Minimum value 0.010891743142872001\n",
            "Maximum value 0.989150624479211\n"
          ]
        }
      ]
    },
    {
      "cell_type": "code",
      "source": [
        "a6= np.zeros(10)\n",
        "a6[4]=1\n",
        "print(a6)"
      ],
      "metadata": {
        "colab": {
          "base_uri": "https://localhost:8080/"
        },
        "id": "6GkQrGhkC49m",
        "outputId": "c78f977d-baf7-4109-eb9e-73f237c2c31b"
      },
      "execution_count": 33,
      "outputs": [
        {
          "output_type": "stream",
          "name": "stdout",
          "text": [
            "[0. 0. 0. 0. 1. 0. 0. 0. 0. 0.]\n"
          ]
        }
      ]
    },
    {
      "cell_type": "code",
      "source": [
        "a7=np.array([1,2,0,0,4,0])\n",
        "r_arr=np.flip(a7)\n",
        "print(\"reverse array\",r_arr)"
      ],
      "metadata": {
        "colab": {
          "base_uri": "https://localhost:8080/"
        },
        "id": "63ejiiTbDD7b",
        "outputId": "4ea7d111-cae2-478d-a79e-40b67df0cc19"
      },
      "execution_count": 34,
      "outputs": [
        {
          "output_type": "stream",
          "name": "stdout",
          "text": [
            "reverse array [0 4 0 0 2 1]\n"
          ]
        }
      ]
    },
    {
      "cell_type": "code",
      "source": [
        "a8= np.ones((5,5))\n",
        "a8[1:-1, 1:-1]=0\n",
        "print(a8)"
      ],
      "metadata": {
        "colab": {
          "base_uri": "https://localhost:8080/"
        },
        "id": "rP2nYlKZDnt4",
        "outputId": "666477ee-60a3-4267-f366-eab3e0dffe26"
      },
      "execution_count": 35,
      "outputs": [
        {
          "output_type": "stream",
          "name": "stdout",
          "text": [
            "[[1. 1. 1. 1. 1.]\n",
            " [1. 0. 0. 0. 1.]\n",
            " [1. 0. 0. 0. 1.]\n",
            " [1. 0. 0. 0. 1.]\n",
            " [1. 1. 1. 1. 1.]]\n"
          ]
        }
      ]
    },
    {
      "cell_type": "code",
      "source": [
        "a9=np.zeros((8,8),int)\n",
        "a9[1::2, ::2]=1\n",
        "a9[::2, 1::2]=1\n",
        "print(a9)"
      ],
      "metadata": {
        "colab": {
          "base_uri": "https://localhost:8080/"
        },
        "id": "9Rd_ZhImD3Py",
        "outputId": "6c4b1463-50c4-40dc-8e6c-a6213cbba3bc"
      },
      "execution_count": 36,
      "outputs": [
        {
          "output_type": "stream",
          "name": "stdout",
          "text": [
            "[[0 1 0 1 0 1 0 1]\n",
            " [1 0 1 0 1 0 1 0]\n",
            " [0 1 0 1 0 1 0 1]\n",
            " [1 0 1 0 1 0 1 0]\n",
            " [0 1 0 1 0 1 0 1]\n",
            " [1 0 1 0 1 0 1 0]\n",
            " [0 1 0 1 0 1 0 1]\n",
            " [1 0 1 0 1 0 1 0]]\n"
          ]
        }
      ]
    },
    {
      "cell_type": "markdown",
      "source": [
        "Problem - 3: Array Operations:\n",
        "For the following arrays:\n",
        "x = np.array([[1,2],[3,5]]) and y = np.array([[5,6],[7,8]]);\n",
        "v = np.array([9,10]) and w = np.array([11,12]);\n",
        "Complete all the task using numpy:\n",
        "1. Add the two array.\n",
        "2. Subtract the two array.\n",
        "3. Multiply the array with any integers of your choice.\n",
        "4. Find the square of each element of the array.\n",
        "5. Find the dot product between: v(and)w ; x(and)v ; x(and)y.\n",
        "6. Concatenate x(and)y along row and Concatenate v(and)w along column.\n",
        "{Hint:try np.concatenate() or np.vstack() functions.\n",
        "7. Concatenate x(and)v; if you get an error, observe and explain why did you get the error?"
      ],
      "metadata": {
        "id": "-olRIVX5EQmt"
      }
    },
    {
      "cell_type": "code",
      "source": [
        "import numpy as np\n",
        "x=np.array([[1,2],[3,5]])\n",
        "y=np.array([[5,6],[7,8]])\n",
        "z=np.add(x,y)\n",
        "print(\"ADDITION OF ARRAY:\\n\",z)\n"
      ],
      "metadata": {
        "colab": {
          "base_uri": "https://localhost:8080/"
        },
        "id": "13y1PZnmEULF",
        "outputId": "b61fd728-4dd8-4670-86b5-5a8bc78aabdc"
      },
      "execution_count": 38,
      "outputs": [
        {
          "output_type": "stream",
          "name": "stdout",
          "text": [
            "ADDITION OF ARRAY:\n",
            " [[ 6  8]\n",
            " [10 13]]\n"
          ]
        }
      ]
    },
    {
      "cell_type": "code",
      "source": [
        "x=np.array([[1,2],[3,5]])\n",
        "y=np.array([[5,6],[7,8]])\n",
        "z=np.subtract(x,y)\n",
        "print(\"SUBRACTION OF ARRAY:\\n\",z)\n"
      ],
      "metadata": {
        "colab": {
          "base_uri": "https://localhost:8080/"
        },
        "id": "rPCFlODPFHAY",
        "outputId": "6564a729-fb5d-4911-fe6b-ae879e473114"
      },
      "execution_count": 39,
      "outputs": [
        {
          "output_type": "stream",
          "name": "stdout",
          "text": [
            "SUBRACTION OF ARRAY:\n",
            " [[-4 -4]\n",
            " [-4 -3]]\n"
          ]
        }
      ]
    },
    {
      "cell_type": "code",
      "source": [
        "a=np.array([[1,2],[3,5]])\n",
        "print(\"MULTIPLICATION OF ARRAY:\\n\",a*3)"
      ],
      "metadata": {
        "colab": {
          "base_uri": "https://localhost:8080/"
        },
        "id": "cOBJtCd7FSDJ",
        "outputId": "ccef587a-2fba-4960-99a0-732bfb28b276"
      },
      "execution_count": 40,
      "outputs": [
        {
          "output_type": "stream",
          "name": "stdout",
          "text": [
            "MULTIPLICATION OF ARRAY:\n",
            " [[ 3  6]\n",
            " [ 9 15]]\n"
          ]
        }
      ]
    },
    {
      "cell_type": "code",
      "source": [
        "a=np.array([[1,2],[3,5]])\n",
        "b=np.square(a)\n",
        "print(\"Square of array\",b)"
      ],
      "metadata": {
        "colab": {
          "base_uri": "https://localhost:8080/"
        },
        "id": "Jc83QGsrFoX-",
        "outputId": "45256d15-dbf9-4381-9ccd-442768792547"
      },
      "execution_count": 41,
      "outputs": [
        {
          "output_type": "stream",
          "name": "stdout",
          "text": [
            "Square of array [[ 1  4]\n",
            " [ 9 25]]\n"
          ]
        }
      ]
    },
    {
      "cell_type": "code",
      "source": [
        "v=np.array([9,10])\n",
        "w=np.array([11,12])\n",
        "x=np.array([9,10])\n",
        "y=np.array([11,12])\n",
        "print(\"Dot product between v and w: \",np.dot(v,w))\n",
        "print(\"Dot product between x and v: \",np.dot(x,v))\n",
        "print(\"Dot product between x and y: \",np.dot(x,y))"
      ],
      "metadata": {
        "colab": {
          "base_uri": "https://localhost:8080/"
        },
        "id": "WEAPYk2cGEwt",
        "outputId": "8fd09479-41e2-49e3-b37e-5ef8a873311e"
      },
      "execution_count": 42,
      "outputs": [
        {
          "output_type": "stream",
          "name": "stdout",
          "text": [
            "Dot product between v and w:  219\n",
            "Dot product between x and v:  181\n",
            "Dot product between x and y:  219\n"
          ]
        }
      ]
    },
    {
      "cell_type": "code",
      "source": [
        "import numpy as np\n",
        "a = np.array([[1,2],[3,5]])\n",
        "b = np.array([[5,6],[7,8]])\n",
        "v =np.array([9,10])\n",
        "w=np.array([11,12])\n",
        "concat_ab=np.concatenate((a,b),axis=0)\n",
        "concat_vw =np.vstack((v,w)).T\n",
        "print(\"Concatenate a and b along rows\\n\",concat_ab)\n",
        "print(\"Concatenate v and w along column\\n\",concat_vw)"
      ],
      "metadata": {
        "colab": {
          "base_uri": "https://localhost:8080/"
        },
        "id": "Jb9ElJpjIaKJ",
        "outputId": "3a275165-ceec-4847-fb4d-e792b0664b7f"
      },
      "execution_count": 48,
      "outputs": [
        {
          "output_type": "stream",
          "name": "stdout",
          "text": [
            "Concatenate a and b along rows\n",
            " [[1 2]\n",
            " [3 5]\n",
            " [5 6]\n",
            " [7 8]]\n",
            "Concatenate v and w along column\n",
            " [[ 9 11]\n",
            " [10 12]]\n"
          ]
        }
      ]
    },
    {
      "cell_type": "code",
      "source": [
        "a = np.array([[1,2],[3,5]])\n",
        "b= np.array([9,10])\n",
        "result = np.concatenate((a,b),axis=0)\n"
      ],
      "metadata": {
        "colab": {
          "base_uri": "https://localhost:8080/",
          "height": 241
        },
        "id": "u7KBdeXkG7XU",
        "outputId": "22e45e1a-fdda-4f7a-e6d5-d2be323a819c"
      },
      "execution_count": 47,
      "outputs": [
        {
          "output_type": "error",
          "ename": "ValueError",
          "evalue": "all the input arrays must have same number of dimensions, but the array at index 0 has 2 dimension(s) and the array at index 1 has 1 dimension(s)",
          "traceback": [
            "\u001b[0;31m---------------------------------------------------------------------------\u001b[0m",
            "\u001b[0;31mValueError\u001b[0m                                Traceback (most recent call last)",
            "\u001b[0;32m<ipython-input-47-59b8fe4e415f>\u001b[0m in \u001b[0;36m<cell line: 3>\u001b[0;34m()\u001b[0m\n\u001b[1;32m      1\u001b[0m \u001b[0ma\u001b[0m \u001b[0;34m=\u001b[0m \u001b[0mnp\u001b[0m\u001b[0;34m.\u001b[0m\u001b[0marray\u001b[0m\u001b[0;34m(\u001b[0m\u001b[0;34m[\u001b[0m\u001b[0;34m[\u001b[0m\u001b[0;36m1\u001b[0m\u001b[0;34m,\u001b[0m\u001b[0;36m2\u001b[0m\u001b[0;34m]\u001b[0m\u001b[0;34m,\u001b[0m\u001b[0;34m[\u001b[0m\u001b[0;36m3\u001b[0m\u001b[0;34m,\u001b[0m\u001b[0;36m5\u001b[0m\u001b[0;34m]\u001b[0m\u001b[0;34m]\u001b[0m\u001b[0;34m)\u001b[0m\u001b[0;34m\u001b[0m\u001b[0;34m\u001b[0m\u001b[0m\n\u001b[1;32m      2\u001b[0m \u001b[0mb\u001b[0m\u001b[0;34m=\u001b[0m \u001b[0mnp\u001b[0m\u001b[0;34m.\u001b[0m\u001b[0marray\u001b[0m\u001b[0;34m(\u001b[0m\u001b[0;34m[\u001b[0m\u001b[0;36m9\u001b[0m\u001b[0;34m,\u001b[0m\u001b[0;36m10\u001b[0m\u001b[0;34m]\u001b[0m\u001b[0;34m)\u001b[0m\u001b[0;34m\u001b[0m\u001b[0;34m\u001b[0m\u001b[0m\n\u001b[0;32m----> 3\u001b[0;31m \u001b[0mresult\u001b[0m \u001b[0;34m=\u001b[0m \u001b[0mnp\u001b[0m\u001b[0;34m.\u001b[0m\u001b[0mconcatenate\u001b[0m\u001b[0;34m(\u001b[0m\u001b[0;34m(\u001b[0m\u001b[0ma\u001b[0m\u001b[0;34m,\u001b[0m\u001b[0mb\u001b[0m\u001b[0;34m)\u001b[0m\u001b[0;34m,\u001b[0m\u001b[0maxis\u001b[0m\u001b[0;34m=\u001b[0m\u001b[0;36m0\u001b[0m\u001b[0;34m)\u001b[0m\u001b[0;34m\u001b[0m\u001b[0;34m\u001b[0m\u001b[0m\n\u001b[0m",
            "\u001b[0;31mValueError\u001b[0m: all the input arrays must have same number of dimensions, but the array at index 0 has 2 dimension(s) and the array at index 1 has 1 dimension(s)"
          ]
        }
      ]
    },
    {
      "cell_type": "markdown",
      "source": [
        "Problem - 4: Matrix Operations:\n",
        "• For the following arrays:\n",
        "A = np.array([[3,4],[7,8]]) and B = np.array([[5,3],[2,1]]);\n",
        "Prove following with Numpy:\n",
        "1. Prove A.A−1 = I.\n",
        "2. Prove AB ̸= BA.\n",
        "3. Prove (AB)\n",
        "\n",
        "T = BTAT\n",
        ".\n",
        "\n",
        "• Solve the following system of Linear equation using Inverse Methods.\n",
        "\n",
        "2x − 3y + z = −1\n",
        "x − y + 2z = −3\n",
        "3x + y − z = 9\n",
        "\n",
        "{Hint: First use Numpy array to represent the equation in Matrix form. Then Solve for: AX = B}\n",
        "• Now: solve the above equation using np.linalg.inv function.{Explore more about ”linalg” function\n",
        "of Numpy}"
      ],
      "metadata": {
        "id": "SpIG4cI_JmF-"
      }
    },
    {
      "cell_type": "code",
      "source": [
        "import numpy as np\n",
        "a= np.array([[3,4],[5,6]])\n",
        "a_inv= np.linalg.inv(a)\n",
        "result=np.dot(a,a_inv)\n",
        "print(\"A * A^(-1)\",result)"
      ],
      "metadata": {
        "colab": {
          "base_uri": "https://localhost:8080/"
        },
        "id": "0z1VZ1NjJu8G",
        "outputId": "c32be664-9888-4d1b-d22b-15455421baaf"
      },
      "execution_count": 50,
      "outputs": [
        {
          "output_type": "stream",
          "name": "stdout",
          "text": [
            "A * A^(-1) [[ 1.0000000e+00 -8.8817842e-16]\n",
            " [ 0.0000000e+00  1.0000000e+00]]\n"
          ]
        }
      ]
    },
    {
      "cell_type": "code",
      "source": [
        "a= np.array([[3,4],[5,6]])\n",
        "b= np.array([[1,2],[7,8]])\n",
        "print(\"AB \\n\",np.dot(a,b))\n",
        "print(\"BA \\n\",np.dot(b,a))"
      ],
      "metadata": {
        "colab": {
          "base_uri": "https://localhost:8080/"
        },
        "id": "uskVFZv9LOTh",
        "outputId": "4e29ae8f-9d69-4a2e-dc5f-ca28d458f0ab"
      },
      "execution_count": 51,
      "outputs": [
        {
          "output_type": "stream",
          "name": "stdout",
          "text": [
            "AB \n",
            " [[31 38]\n",
            " [47 58]]\n",
            "BA \n",
            " [[13 16]\n",
            " [61 76]]\n"
          ]
        }
      ]
    },
    {
      "cell_type": "code",
      "source": [
        "a= np.array([[3,4],[5,6]])\n",
        "b= np.array([[1,2],[7,8]])\n",
        "ab_trans=np.transpose(np.dot(a,b))\n",
        "aTbT=np.dot(b.T,a.T)\n",
        "print(\"Transpose of AB \\n\",ab_trans)\n",
        "print(\"Transpose of BA \\n\",aTbT)"
      ],
      "metadata": {
        "colab": {
          "base_uri": "https://localhost:8080/"
        },
        "id": "k4onphc6L-CS",
        "outputId": "b31574b5-2bb4-46a0-bbbf-5ea76b46c8fe"
      },
      "execution_count": 53,
      "outputs": [
        {
          "output_type": "stream",
          "name": "stdout",
          "text": [
            "Transpose of AB \n",
            " [[31 47]\n",
            " [38 58]]\n",
            "Transpose of BA \n",
            " [[31 47]\n",
            " [38 58]]\n"
          ]
        }
      ]
    },
    {
      "cell_type": "code",
      "source": [
        "a= np.array([[2,-3,1],[1,-1,2],[3,1,-1]])\n",
        "b=np.array([-1,-3,9])\n",
        "a_inv = np.linalg.inv(a)\n",
        "result=np.dot(a_inv,b)\n",
        "print(\"solution of linear equation\",result)"
      ],
      "metadata": {
        "colab": {
          "base_uri": "https://localhost:8080/"
        },
        "id": "ZGafgbeiMqHc",
        "outputId": "c69d0406-69b8-464b-a927-f65c24d84838"
      },
      "execution_count": 56,
      "outputs": [
        {
          "output_type": "stream",
          "name": "stdout",
          "text": [
            "solution of linear equation [ 2.  1. -2.]\n"
          ]
        }
      ]
    },
    {
      "cell_type": "markdown",
      "source": [
        "4.2 Experiment: How Fast is Numpy?\n",
        "In this exercise, you will compare the performance and implementation of operations using plain Python\n",
        "lists (arrays) and NumPy arrays. Follow the instructions:\n",
        "1. Element-wise Addition:\n",
        "• Using Python Lists, perform element-wise addition of two lists of size 1, 000, 000. Measure\n",
        "and Print the time taken for this operation.\n",
        "• Using Numpy Arrays, Repeat the calculation and measure and print the time taken for this\n",
        "operation.\n",
        "2. Element-wise Multiplication\n",
        "\n",
        "• Using Python Lists, perform element-wise multiplication of two lists of size 1, 000, 000. Mea-\n",
        "sure and Print the time taken for this operation.\n",
        "\n",
        "• Using Numpy Arrays, Repeat the calculation and measure and print the time taken for this\n",
        "operation.\n",
        "3. Dot Product\n",
        "• Using Python Lists, compute the dot product of two lists of size 1, 000, 000. Measure and\n",
        "Print the time taken for this operation.\n",
        "• Using Numpy Arrays, Repeat the calculation and measure and print the time taken for this\n",
        "operation.\n",
        "4. Matrix Multiplication\n",
        "• Using Python lists, perform matrix multiplication of two matrices of size 1000x1000. Measure\n",
        "and print the time taken for this operation.\n",
        "\n",
        "• Using NumPy arrays, perform matrix multiplication of two matrices of size 1000x1000. Mea-\n",
        "sure and print the time taken for this operation."
      ],
      "metadata": {
        "id": "nkumYovVPDgi"
      }
    },
    {
      "cell_type": "code",
      "source": [
        "#TASK1\n",
        "import time\n",
        "import numpy as np\n",
        "l1=[i for i in range(1000000)]\n",
        "l2=[i for i in range(1000000)]\n",
        "start=time.time()\n",
        "result=[l1[i] + l2[i] for i in range(1000000)]\n",
        "end=time.time()\n",
        "print(\"Time taken for python list addition\",(end-start))\n",
        "\n",
        "a1= np.arange(1000000)\n",
        "a2=np.arange(1000000)\n",
        "s = time.time()\n",
        "result1 = a1 + a2\n",
        "e=time.time()\n",
        "print(\"Time taken for array addition\",(e-s))\n",
        "\n",
        "\n"
      ],
      "metadata": {
        "colab": {
          "base_uri": "https://localhost:8080/"
        },
        "id": "AzDMtBisPGK0",
        "outputId": "3fd79659-e87c-43c2-e4f0-ca172d7709b3"
      },
      "execution_count": 65,
      "outputs": [
        {
          "output_type": "stream",
          "name": "stdout",
          "text": [
            "Time taken for python list addition 0.17451977729797363\n",
            "Time taken for array addition 0.004498004913330078\n"
          ]
        }
      ]
    },
    {
      "cell_type": "code",
      "source": [
        "#TASK2\n",
        "import time\n",
        "import numpy as np\n",
        "l1=[i for i in range(1000000)]\n",
        "l2=[i for i in range(1000000)]\n",
        "start=time.time()\n",
        "result=[l1[i] * l2[i] for i in range(1000000)]\n",
        "end=time.time()\n",
        "print(\"Time taken for python list multiplication\",(end-start))\n",
        "\n",
        "a1= np.arange(1000000)\n",
        "a2=np.arange(1000000)\n",
        "s = time.time()\n",
        "result1 = a1 * a2\n",
        "e=time.time()\n",
        "print(\"Time taken for array multiplication\",(e-s))\n",
        "\n",
        "\n"
      ],
      "metadata": {
        "colab": {
          "base_uri": "https://localhost:8080/"
        },
        "id": "4FXBCFDMRPzR",
        "outputId": "22a24547-ee3e-4676-dc38-27e1757f4443"
      },
      "execution_count": 59,
      "outputs": [
        {
          "output_type": "stream",
          "name": "stdout",
          "text": [
            "Time taken for python list 0.1680605411529541\n",
            "Time taken for python list 0.04389357566833496\n"
          ]
        }
      ]
    },
    {
      "cell_type": "code",
      "source": [
        "#TASK3\n",
        "import time\n",
        "import numpy as np\n",
        "l1=[i for i in range(1000000)]\n",
        "l2=[i for i in range(1000000)]\n",
        "start=time.time()\n",
        "result=sum(l1[i] * l2[i] for i in range(1000000))\n",
        "end=time.time()\n",
        "print(\"Time taken for python list dot product\",(end-start))\n",
        "\n",
        "a1= np.arange(1000000)\n",
        "a2=np.arange(1000000)\n",
        "start_t = time.time()\n",
        "result1 = np.dot(a1,a2)\n",
        "end_t=time.time()\n",
        "print(\"Time taken for dot product\",(end_t-start_t))\n",
        "\n"
      ],
      "metadata": {
        "colab": {
          "base_uri": "https://localhost:8080/"
        },
        "id": "XB8gIzAoRtNg",
        "outputId": "f45660bb-73b4-4560-99a9-ad02867e5833"
      },
      "execution_count": 61,
      "outputs": [
        {
          "output_type": "stream",
          "name": "stdout",
          "text": [
            "Time taken for python list dot product 0.28705334663391113\n",
            "Time taken for dot product 0.0019290447235107422\n"
          ]
        }
      ]
    },
    {
      "cell_type": "code",
      "source": [
        "#TASK4\n",
        "import time\n",
        "import numpy as np\n",
        "m1=[[i for i in range(1000)]for j in range (100)]\n",
        "m2=[[i for i in range(1000)]for j in range (100)]\n",
        "start=time.time()\n",
        "result=[[sum(m1[i][k] * m2[k][j] for k in range(100))for j in range(100)] for i in range(100)]\n",
        "end=time.time()\n",
        "print(\"Time taken for python list matrix ,multiplication\",(end-start))\n",
        "\n",
        "a1= np.random.rand(100,100)\n",
        "a2=np.random.rand(100,100)\n",
        "start_t = time.time()\n",
        "result1 = np.dot(a1,a2)\n",
        "end_t=time.time()\n",
        "print(\"Time taken for array matrix multiplication\",(end_t-start_t))\n"
      ],
      "metadata": {
        "colab": {
          "base_uri": "https://localhost:8080/"
        },
        "id": "pcq3uG2OSnJK",
        "outputId": "0a83f3fe-c3e0-46ab-b6e5-b18a07d3e6f7"
      },
      "execution_count": 66,
      "outputs": [
        {
          "output_type": "stream",
          "name": "stdout",
          "text": [
            "Time taken for python list matrix ,multiplication 0.23958134651184082\n",
            "Time taken for array matrix multiplication 0.0004096031188964844\n"
          ]
        }
      ]
    }
  ]
}